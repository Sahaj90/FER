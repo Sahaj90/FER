{
 "cells": [
  {
   "cell_type": "code",
   "execution_count": 3,
   "id": "0c1d6720",
   "metadata": {},
   "outputs": [
    {
     "name": "stdout",
     "output_type": "stream",
     "text": [
      "Collecting layers\n",
      "  Downloading layers-0.1.5.tar.gz (5.5 kB)\n",
      "Requirement already satisfied: PyYaml in c:\\users\\sahaj\\anaconda3\\lib\\site-packages (from layers) (6.0)\n",
      "Collecting bashutils\n",
      "  Downloading Bashutils-0.0.4.tar.gz (4.2 kB)\n",
      "Building wheels for collected packages: layers, bashutils\n",
      "  Building wheel for layers (setup.py): started\n",
      "  Building wheel for layers (setup.py): finished with status 'done'\n",
      "  Created wheel for layers: filename=layers-0.1.5-py3-none-any.whl size=5379 sha256=634dd5b0ad0f865ec6846cfcd656cdb18002ac3958f9c69a56e1f561d1449da5\n",
      "  Stored in directory: c:\\users\\sahaj\\appdata\\local\\pip\\cache\\wheels\\f8\\4d\\ec\\d396d8edcf2930f3d1f06af3e62e7bae9e24b19f0fa593e413\n",
      "  Building wheel for bashutils (setup.py): started\n",
      "  Building wheel for bashutils (setup.py): finished with status 'done'\n",
      "  Created wheel for bashutils: filename=Bashutils-0.0.4-py3-none-any.whl size=5472 sha256=e21f1c0c54eca805798bcb4c9cea701884fbace2a317d7adcecfa266e79c2324\n",
      "  Stored in directory: c:\\users\\sahaj\\appdata\\local\\pip\\cache\\wheels\\a1\\db\\d5\\c7823b68c53a5b141f3265057d95f872a984b37a058ccb761c\n",
      "Successfully built layers bashutils\n",
      "Installing collected packages: bashutils, layers\n",
      "Successfully installed bashutils-0.0.4 layers-0.1.5\n",
      "Note: you may need to restart the kernel to use updated packages.\n"
     ]
    }
   ],
   "source": [
    "pip install layers"
   ]
  },
  {
   "cell_type": "code",
   "execution_count": 1,
   "id": "bf2a1baa",
   "metadata": {},
   "outputs": [],
   "source": [
    "import tensorflow as tf\n",
    "from tensorflow import keras\n",
    "from tensorflow.keras import layers"
   ]
  },
  {
   "cell_type": "code",
   "execution_count": null,
   "id": "ff1c2c2c",
   "metadata": {},
   "outputs": [],
   "source": []
  }
 ],
 "metadata": {
  "kernelspec": {
   "display_name": "Python 3 (ipykernel)",
   "language": "python",
   "name": "python3"
  },
  "language_info": {
   "codemirror_mode": {
    "name": "ipython",
    "version": 3
   },
   "file_extension": ".py",
   "mimetype": "text/x-python",
   "name": "python",
   "nbconvert_exporter": "python",
   "pygments_lexer": "ipython3",
   "version": "3.9.7"
  }
 },
 "nbformat": 4,
 "nbformat_minor": 5
}
